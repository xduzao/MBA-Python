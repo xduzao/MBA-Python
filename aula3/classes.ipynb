{
 "cells": [
  {
   "cell_type": "code",
   "execution_count": null,
   "metadata": {},
   "outputs": [],
   "source": [
    "\"\"\"\n",
    "Programação Orientada a Objetos - POO\n",
    "\n",
    "- POO é um paradigma de programação que utiliza que mapeamento\n",
    "de objetos do mundo real para modelos computacionais.\n",
    "\n",
    "- Paradigma de programação é a forma/metodologia utilizada para\n",
    "pensar/desenvolver sistemas.\n",
    "\n",
    "Principais elementos da Orientação a Objetos\n",
    "- Classe -> Modelo do objeto do mundo real sendo representado computacionalmente;\n",
    "- Atributo -> Características do objeto.\n",
    "- Método -> Comportamento do objeto (funções).\n",
    "- Construtor -> Método especial utilizado para criar os objetos;\n",
    "- Objeto -> Instância da classe.\n",
    "\"\"\""
   ]
  },
  {
   "cell_type": "code",
   "execution_count": null,
   "metadata": {},
   "outputs": [],
   "source": [
    "numero = 10\n",
    "\n",
    "print(numero)\n",
    "print(type(numero))\n",
    "\n",
    "nome = 'Vagner Macedo'\n",
    "print(nome)\n",
    "print(type(nome))\n"
   ]
  },
  {
   "cell_type": "code",
   "execution_count": null,
   "metadata": {},
   "outputs": [],
   "source": [
    "# classe\n",
    "class Produto:\n",
    "    pass\n",
    "\n",
    "# instancia\n",
    "ps4 = Produto()\n",
    "print(ps4)\n",
    "print(type(ps4))\n"
   ]
  },
  {
   "cell_type": "markdown",
   "metadata": {},
   "source": [
    "### Outros exemplos de classes"
   ]
  },
  {
   "cell_type": "code",
   "execution_count": null,
   "metadata": {},
   "outputs": [],
   "source": [
    "# Podemos criar várias classes no mesmo arquivo\n",
    "class Lampada:\n",
    "    pass\n",
    "\n",
    "\n",
    "class ContaCorrente:\n",
    "    pass\n",
    "\n",
    "\n",
    "class Usuario:\n",
    "    pass"
   ]
  },
  {
   "cell_type": "markdown",
   "metadata": {},
   "source": [
    "### Métodos e Atributos"
   ]
  },
  {
   "cell_type": "code",
   "execution_count": null,
   "metadata": {},
   "outputs": [],
   "source": [
    "\n",
    "class Usuario:\n",
    "\n",
    "    contador = 0\n",
    "\n",
    "    def conta_usuarios(cls):\n",
    "        print(f'Classe: {cls}')\n",
    "        print(f'Temos {cls.contador} usuário(s) no sistema')\n",
    "\n",
    "    def definicao():\n",
    "        return 'USR123'\n",
    "\n",
    "    def __init__(self, nome, sobrenome, email):\n",
    "        self.__id = Usuario.contador + 1    #método PRIVATE (DUNDER) \n",
    "        self.__nome = nome\n",
    "        self.__sobrenome = sobrenome\n",
    "        self.__email = email\n",
    "        Usuario.contador = self.__id\n",
    "        print(f'Usuário criado: {self.nome_completo()}')\n",
    "\n",
    "    def nome_completo(self):\n",
    "        return f'{self.__nome} {self.__sobrenome}'\n"
   ]
  },
  {
   "cell_type": "code",
   "execution_count": null,
   "metadata": {},
   "outputs": [],
   "source": [
    "print(Usuario.contador)"
   ]
  },
  {
   "cell_type": "code",
   "execution_count": null,
   "metadata": {},
   "outputs": [],
   "source": [
    "print(Usuario.definicao())\n",
    "\n",
    "user = Usuario('José', 'Silvério', 'jose@gmail.com')\n",
    "\n",
    "print(user.contador)\n",
    "\n",
    "print(user.nome_completo())\n"
   ]
  },
  {
   "cell_type": "markdown",
   "metadata": {},
   "source": [
    "## Exercícios\n",
    "\n",
    "#### Escreva uma classe chamada <b>Aluno</b> que represente um aluno e tenha os seguintes atributos:\n",
    "\n",
    "<b>nome: </b>o nome do aluno.<br>\n",
    "<b>idade:</b> a idade do aluno.<br>\n",
    "<b>curso:</b> o curso que o aluno está cursando.<br>\n",
    "\n",
    "Além disso, a classe deve ter um método chamado <b>mostrar_informacoes()</b> que imprime na tela as informações do aluno, incluindo seu nome, idade e curso.\n",
    "\n",
    "Escreva também um programa que cria três instâncias da classe Aluno, preenchendo os atributos com informações fictícias, e em seguida chama o método mostrar_informacoes() para cada instância criada."
   ]
  },
  {
   "cell_type": "markdown",
   "metadata": {},
   "source": [
    "Duplo_clique __aqui__ para a solução.\n",
    "<!-- resposta abaixo:\n",
    "class Aluno:\n",
    "    def __init__(self, nome, idade, curso):\n",
    "        self.nome = nome\n",
    "        self.idade = idade\n",
    "        self.curso = curso\n",
    "    \n",
    "    def mostrar_informacoes(self):\n",
    "        print(f\"Nome: {self.nome}\")\n",
    "        print(f\"Idade: {self.idade}\")\n",
    "        print(f\"Curso: {self.curso}\")\n",
    "        print()\n",
    "\n",
    "# Criando instâncias da classe Aluno\n",
    "aluno1 = Aluno(\"João\", 20, \"Engenharia\")\n",
    "aluno2 = Aluno(\"Maria\", 22, \"Medicina\")\n",
    "aluno3 = Aluno(\"Pedro\", 19, \"Administração\")\n",
    "\n",
    "# Chamando o método mostrar_informacoes() para cada aluno\n",
    "print(\"Informações do Aluno 1:\")\n",
    "aluno1.mostrar_informacoes()\n",
    "\n",
    "print(\"Informações do Aluno 2:\")\n",
    "aluno2.mostrar_informacoes()\n",
    "\n",
    "print(\"Informações do Aluno 3:\")\n",
    "aluno3.mostrar_informacoes()\n",
    "-->"
   ]
  },
  {
   "cell_type": "markdown",
   "metadata": {},
   "source": []
  },
  {
   "cell_type": "code",
   "execution_count": 17,
   "metadata": {},
   "outputs": [
    {
     "name": "stdout",
     "output_type": "stream",
     "text": [
      "joao\n"
     ]
    },
    {
     "ename": "AttributeError",
     "evalue": "'Aluno' object has no attribute '__nota'",
     "output_type": "error",
     "traceback": [
      "\u001b[1;31m---------------------------------------------------------------------------\u001b[0m",
      "\u001b[1;31mAttributeError\u001b[0m                            Traceback (most recent call last)",
      "Cell \u001b[1;32mIn[17], line 9\u001b[0m\n\u001b[0;32m      7\u001b[0m aluno1 \u001b[38;5;241m=\u001b[39m Aluno(\u001b[38;5;124m'\u001b[39m\u001b[38;5;124mjoao\u001b[39m\u001b[38;5;124m'\u001b[39m, \u001b[38;5;241m9\u001b[39m)\n\u001b[0;32m      8\u001b[0m \u001b[38;5;28mprint\u001b[39m(aluno1\u001b[38;5;241m.\u001b[39mnome)\n\u001b[1;32m----> 9\u001b[0m \u001b[38;5;28mprint\u001b[39m(\u001b[43maluno1\u001b[49m\u001b[38;5;241;43m.\u001b[39;49m\u001b[43m__nota\u001b[49m)\n",
      "\u001b[1;31mAttributeError\u001b[0m: 'Aluno' object has no attribute '__nota'"
     ]
    }
   ],
   "source": [
    "class Aluno:\n",
    "    \n",
    "    def __init__(self, nome, nota) -> None:\n",
    "        self.nome = nome\n",
    "        self.__nota = nota\n",
    "\n",
    "aluno1 = Aluno('joao', 9)\n",
    "print(aluno1.nome)\n",
    "print(aluno1.__nota)"
   ]
  },
  {
   "cell_type": "code",
   "execution_count": 8,
   "metadata": {},
   "outputs": [
    {
     "data": {
      "text/plain": [
       "['_Aluno__nota',\n",
       " '__class__',\n",
       " '__delattr__',\n",
       " '__dict__',\n",
       " '__dir__',\n",
       " '__doc__',\n",
       " '__eq__',\n",
       " '__format__',\n",
       " '__ge__',\n",
       " '__getattribute__',\n",
       " '__getstate__',\n",
       " '__gt__',\n",
       " '__hash__',\n",
       " '__init__',\n",
       " '__init_subclass__',\n",
       " '__le__',\n",
       " '__lt__',\n",
       " '__module__',\n",
       " '__ne__',\n",
       " '__new__',\n",
       " '__reduce__',\n",
       " '__reduce_ex__',\n",
       " '__repr__',\n",
       " '__setattr__',\n",
       " '__sizeof__',\n",
       " '__str__',\n",
       " '__subclasshook__',\n",
       " '__weakref__',\n",
       " 'nome']"
      ]
     },
     "execution_count": 8,
     "metadata": {},
     "output_type": "execute_result"
    }
   ],
   "source": [
    "dir(aluno1)"
   ]
  },
  {
   "cell_type": "markdown",
   "metadata": {},
   "source": [
    "#### NAME MANGLING (temos acesso, mas não deveríamos fazer isto!)"
   ]
  },
  {
   "cell_type": "code",
   "execution_count": 13,
   "metadata": {},
   "outputs": [
    {
     "name": "stdout",
     "output_type": "stream",
     "text": [
      "joao\n",
      "9\n"
     ]
    }
   ],
   "source": [
    "print(aluno1.nome)\n",
    "print(aluno1._Aluno__nota)  # NAME MANGLING # temos acesso, mas não deveríamos fazer isto!"
   ]
  },
  {
   "cell_type": "code",
   "execution_count": 20,
   "metadata": {},
   "outputs": [
    {
     "name": "stdout",
     "output_type": "stream",
     "text": [
      "joao\n",
      "9\n"
     ]
    }
   ],
   "source": [
    "# outra forma de acessar criando um método\n",
    "\n",
    "class Aluno:\n",
    "    \n",
    "    def __init__(self, nome, nota) -> None:\n",
    "        self.nome = nome\n",
    "        self.__nota = nota\n",
    "\n",
    "    def mostra_nota(self):\n",
    "        print(self.__nota)\n",
    "\n",
    "aluno2 = Aluno('joao', 9)\n",
    "print(aluno1.nome)\n",
    "#print(aluno1.__nota)\n",
    "aluno2.mostra_nota()"
   ]
  },
  {
   "cell_type": "code",
   "execution_count": null,
   "metadata": {},
   "outputs": [],
   "source": []
  }
 ],
 "metadata": {
  "kernelspec": {
   "display_name": "Python 3",
   "language": "python",
   "name": "python3"
  },
  "language_info": {
   "codemirror_mode": {
    "name": "ipython",
    "version": 3
   },
   "file_extension": ".py",
   "mimetype": "text/x-python",
   "name": "python",
   "nbconvert_exporter": "python",
   "pygments_lexer": "ipython3",
   "version": "3.11.4"
  }
 },
 "nbformat": 4,
 "nbformat_minor": 2
}
