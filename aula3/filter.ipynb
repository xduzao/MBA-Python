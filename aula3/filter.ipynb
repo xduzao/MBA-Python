{
 "cells": [
  {
   "cell_type": "markdown",
   "metadata": {},
   "source": [
    "# Filter\n",
    "\n",
    "### filter() -> Serve para filtrar dados de uma determinada coleção."
   ]
  },
  {
   "cell_type": "code",
   "execution_count": 3,
   "metadata": {},
   "outputs": [
    {
     "name": "stdout",
     "output_type": "stream",
     "text": [
      "Média: 25\n"
     ]
    }
   ],
   "source": [
    "# Biblioteca para trabalhar com dados estatísticos\n",
    "import statistics # corrijam (caso necessário!)\n",
    "\n",
    "# Dados coletados de algum sensor\n",
    "dados = [10, 20, 30, 40]\n",
    "\n",
    "# Calculando a média dos dados utilizando a função mean()\n",
    "media = statistics.mean(dados)\n",
    "\n",
    "print(f'Média: {media}')"
   ]
  },
  {
   "cell_type": "code",
   "execution_count": 4,
   "metadata": {},
   "outputs": [
    {
     "name": "stdout",
     "output_type": "stream",
     "text": [
      "[30, 40]\n"
     ]
    }
   ],
   "source": [
    "# OBS: Assim como a funcão map(), a filter() recebe dois parâmetros, sendo\n",
    "# uma função e um iterável.\n",
    "\n",
    "res = filter(lambda valor: valor > media, dados)\n",
    "print(list(res))"
   ]
  },
  {
   "cell_type": "code",
   "execution_count": 5,
   "metadata": {},
   "outputs": [
    {
     "name": "stdout",
     "output_type": "stream",
     "text": [
      "['Argentina', 'Brasil', 'Chile', 'Colombia', 'Equador', 'Venezuela']\n"
     ]
    }
   ],
   "source": [
    "paises = ['', 'Argentina', '', 'Brasil', 'Chile', '', 'Colombia', '', 'Equador', '', '', 'Venezuela']\n",
    "\n",
    "# res = filter(lambda pais: len(pais) > 0, paises)\n",
    "# res = filter(None, paises)\n",
    "res = filter(lambda pais: pais != '', paises)\n",
    "\n",
    "print(list(res))\n",
    "\n",
    "# A diferenca entre map() e filter() é:\n",
    "# map() -> Recebe dois parâmetros, uma função e um iterável e retorna um objeto mapeando a função para cada elemento do iterável.\n",
    "# filter() -> Recebe dois parâmetros, uma função e um iterável e retorna um objeto filtrando apenas os elementos de acordo com a função."
   ]
  },
  {
   "cell_type": "code",
   "execution_count": 6,
   "metadata": {},
   "outputs": [
    {
     "name": "stdout",
     "output_type": "stream",
     "text": [
      "[{'username': 'samuel', 'tweets': ['Eu adodo bolos', 'Eu adoro pizzas']}, {'username': 'carla', 'tweets': ['Eu amo meu gato']}, {'username': 'jeff', 'tweets': []}, {'username': 'bob123', 'tweets': []}, {'username': 'doggo', 'tweets': ['Eu gosto de cachorros', 'Vou sair hoje']}, {'username': 'gal', 'tweets': []}]\n"
     ]
    }
   ],
   "source": [
    "# Exemplo mais complexo\n",
    "usuarios = [\n",
    "    {\"username\": \"samuel\", \"tweets\": [\"Eu adodo bolos\", \"Eu adoro pizzas\"]},\n",
    "    {\"username\": \"carla\", \"tweets\": [\"Eu amo meu gato\"]},\n",
    "    {\"username\": \"jeff\", \"tweets\": []},\n",
    "    {\"username\": \"bob123\", \"tweets\": []},\n",
    "    {\"username\": \"doggo\", \"tweets\": [\"Eu gosto de cachorros\", \"Vou sair hoje\"]},\n",
    "    {\"username\": \"gal\", \"tweets\": []}\n",
    "]\n",
    "\n",
    "print(usuarios)"
   ]
  },
  {
   "cell_type": "code",
   "execution_count": 7,
   "metadata": {},
   "outputs": [
    {
     "name": "stdout",
     "output_type": "stream",
     "text": [
      "[{'username': 'jeff', 'tweets': []}, {'username': 'bob123', 'tweets': []}, {'username': 'gal', 'tweets': []}]\n"
     ]
    }
   ],
   "source": [
    "# Filtrar os usuários que estão inativos no Twitter\n",
    "\n",
    "# Forma 1\n",
    "inativos = list(filter(lambda usuario: len(usuario['tweets']) == 0, usuarios))\n",
    "\n",
    "print(inativos)"
   ]
  },
  {
   "cell_type": "code",
   "execution_count": 8,
   "metadata": {},
   "outputs": [
    {
     "name": "stdout",
     "output_type": "stream",
     "text": [
      "['Sua instrutora é Ana']\n"
     ]
    }
   ],
   "source": [
    "# Combinar filter() e map()\n",
    "nomes = ['Severino', 'Ana', 'Maria']\n",
    "\n",
    "# Devemos criar uma lista contendo 'Sua instrutrura é' + nome, desde que cada nome tenha menos de 5 caracteres\n",
    "\n",
    "lista = list(map(lambda nome: f'Sua instrutora é {nome}', filter(lambda nome: len(nome) < 5, nomes)))\n",
    "\n",
    "print(lista)\n"
   ]
  },
  {
   "cell_type": "markdown",
   "metadata": {},
   "source": [
    "\n",
    "#Quando usar cada um:\n",
    "# Quando usar cada um:\n",
    "- Use `map` quando o objetivo é transformar cada elemento de uma coleção.\n",
    "- Use `filter` quando o objetivo é selecionar elementos com base em uma condição.\n"
   ]
  },
  {
   "cell_type": "markdown",
   "metadata": {},
   "source": [
    "## Exercícios\n",
    "\n",
    "#### Suponha que você tenha uma lista de palavras e deseje filtrar apenas as palavras que começam com uma determinada letra. Escreva uma função chamada filtrar_por_letra que aceite uma lista de palavras e uma letra como argumentos e retorne True se a palavra começar com a letra fornecida e False caso contrário. Em seguida, use a função filter() para aplicar essa função à lista de palavras dada.\n",
    "\n",
    "Instruções:\n",
    "\n",
    "1) Defina a função filtrar_por_letra(palavra, letra) que aceite uma palavra e uma letra como argumentos e retorne True se a palavra começar com a letra fornecida e False caso contrário.\n",
    "2) Use a função filter() para aplicar a função filtrar_por_letra à lista de palavras.\n",
    "3) Converta o objeto filter resultante em uma lista.\n",
    "4) Imprima a lista resultante contendo apenas as palavras que começam com a letra fornecida."
   ]
  },
  {
   "cell_type": "markdown",
   "metadata": {},
   "source": [
    "Duplo_clique __aqui__ para a solução.\n",
    "<!-- resposta abaixo:\n",
    "def filtrar_por_letra(palavra, letra):\n",
    "    return palavra.startswith(letra)\n",
    "\n",
    "# Lista de palavras\n",
    "palavras = [\"python\", \"java\", \"c\", \"javascript\", \"ruby\", \"php\"]\n",
    "letra = \"j\"\n",
    "\n",
    "# Filtrando as palavras que começam com a letra fornecida usando filter\n",
    "palavras_filtradas = list(filter(lambda palavra: filtrar_por_letra(palavra, letra), palavras))\n",
    "\n",
    "# Imprimindo a lista resultante contendo apenas as palavras que começam com a letra fornecida\n",
    "print(palavras_filtradas)\n",
    "-->"
   ]
  },
  {
   "cell_type": "code",
   "execution_count": 9,
   "metadata": {},
   "outputs": [
    {
     "data": {
      "text/plain": [
       "['Ana', 'Antonio']"
      ]
     },
     "execution_count": 9,
     "metadata": {},
     "output_type": "execute_result"
    }
   ],
   "source": [
    "def filtrar_por_letra(palavra, letra):\n",
    "    return list(filter(lambda palavra: palavra[0] == letra, palavra))\n",
    "\n",
    "lista = ['Ana', 'Maria', 'Severino', 'Antonio', 'Joao']\n",
    "\n",
    "filtrar_por_letra(lista, 'A')"
   ]
  }
 ],
 "metadata": {
  "kernelspec": {
   "display_name": "base",
   "language": "python",
   "name": "python3"
  },
  "language_info": {
   "codemirror_mode": {
    "name": "ipython",
    "version": 3
   },
   "file_extension": ".py",
   "mimetype": "text/x-python",
   "name": "python",
   "nbconvert_exporter": "python",
   "pygments_lexer": "ipython3",
   "version": "3.12.4"
  }
 },
 "nbformat": 4,
 "nbformat_minor": 2
}
