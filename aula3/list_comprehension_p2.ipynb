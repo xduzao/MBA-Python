{
 "cells": [
  {
   "cell_type": "markdown",
   "metadata": {},
   "source": [
    "## List Comprehension\n",
    "\n",
    "### Podemos adicionar estruturas condicionais lógicas às List Comprehension"
   ]
  },
  {
   "cell_type": "code",
   "execution_count": null,
   "metadata": {},
   "outputs": [],
   "source": [
    "# Exemplos\n",
    "\n",
    "# 1\n",
    "numeros = [1, 2, 3, 4, 5, 6]\n",
    "\n",
    "pares = [numero for numero in numeros if numero % 2 == 0]\n",
    "impares = [numero for numero in numeros if numero % 2 != 0]\n",
    "\n",
    "print(pares)\n",
    "print(impares)\n",
    "\n"
   ]
  },
  {
   "cell_type": "code",
   "execution_count": null,
   "metadata": {},
   "outputs": [],
   "source": [
    "# Refatorar\n",
    "# Qualquer número par módulo de 2 é 0 e 0 em Python é False. not False = True\n",
    "pares = [numero for numero in numeros if not numero % 2]\n",
    "\n",
    "# Qualquer número ímpar módulo de 2 é 1, e 1 em Python é True\n",
    "impares = [numero for numero in numeros if numero % 2]\n",
    "\n",
    "print(pares)\n",
    "print(impares)"
   ]
  },
  {
   "cell_type": "code",
   "execution_count": null,
   "metadata": {},
   "outputs": [],
   "source": [
    "# 2\n",
    "res = [numero * 2 if numero % 2 == 0 else numero / 2 for numero in numeros]\n",
    "print(res)\n"
   ]
  },
  {
   "cell_type": "markdown",
   "metadata": {},
   "source": [
    "### List Comprehension com Strings"
   ]
  },
  {
   "cell_type": "code",
   "execution_count": null,
   "metadata": {},
   "outputs": [],
   "source": [
    "# com strings\n",
    "palavras = ['python', 'é', 'show']\n",
    "maiusculas = [palavra.upper() for palavra in palavras]\n",
    "print(maiusculas)  # Output: ['PYTHON', 'É', 'SHOW']\n"
   ]
  },
  {
   "cell_type": "markdown",
   "metadata": {},
   "source": [
    "### List Comprehension aninhada"
   ]
  },
  {
   "cell_type": "code",
   "execution_count": null,
   "metadata": {},
   "outputs": [],
   "source": [
    "# aninhada\n",
    "matriz = [[1, 2, 3], [4, 5, 6], [7, 8, 9]]\n",
    "achatada = [numero for linha in matriz for numero in linha]\n",
    "print(achatada)  # Output: [1, 2, 3, 4, 5, 6, 7, 8, 9]\n"
   ]
  },
  {
   "cell_type": "code",
   "execution_count": null,
   "metadata": {},
   "outputs": [],
   "source": [
    "# de outro jeito\n",
    "for linha in matriz:\n",
    "    for numero in linha:\n",
    "        print(numero)"
   ]
  },
  {
   "cell_type": "markdown",
   "metadata": {},
   "source": [
    "## Exercícios\n",
    "\n",
    "#### 1) Imprima todos os números de 1-1000 que são divisíveis por 7."
   ]
  },
  {
   "cell_type": "markdown",
   "metadata": {},
   "source": [
    "Duplo_clique __aqui__ para a solução.\n",
    "<!-- resposta abaixo:\n",
    "div7 = [n for n in range(1,1000) if n % 7 == 0] \n",
    "print(div7)\n",
    "-->"
   ]
  },
  {
   "cell_type": "markdown",
   "metadata": {},
   "source": [
    "#### 2) Conte o número de espaços em uma string."
   ]
  },
  {
   "cell_type": "markdown",
   "metadata": {},
   "source": [
    "Duplo_clique __aqui__ para a solução.\n",
    "<!-- resposta abaixo:\n",
    "some_string = 'curso MBA na Fiap usando Python'\n",
    "spaces = [s for s in some_string if s == ' ']\n",
    "print(len(spaces))\n",
    "-->"
   ]
  },
  {
   "cell_type": "markdown",
   "metadata": {},
   "source": [
    "#### 3) Encontre os números comuns em duas listas (sem usar tupla ou set)\n",
    "\n",
    "list_a = [1, 2, 3, 4] e list_b = [2, 3, 4, 5]"
   ]
  },
  {
   "cell_type": "markdown",
   "metadata": {},
   "source": [
    "Duplo_clique __aqui__ para a solução.\n",
    "<!-- resposta abaixo:\n",
    "list_a = [1, 2, 3, 4]\n",
    "list_b = [2, 3, 4, 5]\n",
    "comum = [a for a in list_a if a in list_b]\n",
    "print(comum)\n",
    "-->"
   ]
  }
 ],
 "metadata": {
  "kernelspec": {
   "display_name": "Python 3",
   "language": "python",
   "name": "python3"
  },
  "language_info": {
   "codemirror_mode": {
    "name": "ipython",
    "version": 3
   },
   "file_extension": ".py",
   "mimetype": "text/x-python",
   "name": "python",
   "nbconvert_exporter": "python",
   "pygments_lexer": "ipython3",
   "version": "3.11.4"
  }
 },
 "nbformat": 4,
 "nbformat_minor": 2
}
