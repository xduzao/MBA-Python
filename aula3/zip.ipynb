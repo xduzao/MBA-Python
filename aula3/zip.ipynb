{
 "cells": [
  {
   "cell_type": "markdown",
   "metadata": {},
   "source": [
    "## Zip\n",
    "\n",
    "### zip() -> Cria um iterável (Zip Object) que agrega elemento de cada um dos iteráveis passados como entrada em pares.\n"
   ]
  },
  {
   "cell_type": "code",
   "execution_count": null,
   "metadata": {},
   "outputs": [],
   "source": [
    "# Exemplos\n",
    "\n",
    "lista1 = [1, 2, 3]\n",
    "lista2 = [4, 5, 6, 12]\n",
    "\n",
    "zip1 = zip(lista1, lista2, 'abc')\n",
    "\n",
    "print(zip1)\n",
    "print(type(zip1))\n",
    "\n",
    "# Sempre podemos gerar uma Lista, Tupla, ou Dicionário\n",
    "print(list(zip1))\n"
   ]
  },
  {
   "cell_type": "code",
   "execution_count": null,
   "metadata": {},
   "outputs": [],
   "source": [
    "zip1 = zip(lista1, lista2, 'abc')\n",
    "print(tuple(zip1))\n",
    "\n",
    "zip1 = zip(lista1, lista2, 'abc')\n",
    "print(set(zip1))\n",
    "\n",
    "zip1 = zip(lista1, lista2)\n",
    "print(dict(zip1))"
   ]
  },
  {
   "cell_type": "code",
   "execution_count": null,
   "metadata": {},
   "outputs": [],
   "source": [
    "# OBS: O zip() utiliza como parâmetro o menor tamanho em iterável. Isso significa que se estiver\n",
    "# trabalhando com iteráveis de tamanhos diferentes, irá parar quando os elementos do menor\n",
    "# iterável acarbar.\n",
    "\n",
    "lista3 = [7, 8, 9, 10, 11]\n",
    "\n",
    "zip1 = zip(lista3, lista2, lista1)\n",
    "print(list(zip1))\n",
    "\n"
   ]
  },
  {
   "cell_type": "code",
   "execution_count": null,
   "metadata": {},
   "outputs": [],
   "source": [
    "# Podemos utilizar diferentes iteráveis com zip\n",
    "\n",
    "tupla = 1, 2, 3, 4, 5\n",
    "lista = [6, 7, 8, 9, 10]\n",
    "dicionario = {'a': 11, 'b': 12, 'c': 13, 'd': 14, 'e': 15}\n",
    "\n",
    "zt = zip(tupla, lista, dicionario.values())\n",
    "print(list(zt))"
   ]
  },
  {
   "cell_type": "code",
   "execution_count": null,
   "metadata": {},
   "outputs": [],
   "source": [
    "# Lista de tuplas\n",
    "dados = [(0, 1), (1, 2), (2, 3), (3, 4), (4, 5)]\n",
    "\n",
    "print(list(zip(*dados)))"
   ]
  },
  {
   "cell_type": "code",
   "execution_count": null,
   "metadata": {},
   "outputs": [],
   "source": [
    "# Exemplos mais complexos\n",
    "prova1 = [80, 91, 78]\n",
    "prova2 = [98, 89, 53]\n",
    "alunos = ['maria', 'pedro', 'carla']\n",
    "\n",
    "final = {dado[0]: max(dado[1], dado[2]) for dado in zip(alunos, prova1, prova2)}\n",
    "\n",
    "print(final)"
   ]
  },
  {
   "cell_type": "code",
   "execution_count": null,
   "metadata": {},
   "outputs": [],
   "source": [
    "# Podemos utilizar o map()\n",
    "final = zip(alunos, map(lambda nota: max(nota), zip(prova1, prova2)))\n",
    "\n",
    "print(dict(final))\n"
   ]
  },
  {
   "cell_type": "markdown",
   "metadata": {},
   "source": [
    "## Exercícios\n",
    "\n",
    "#### Suponha que você tenha duas listas, uma contendo o nome de alunos e outra contendo as notas desses alunos em duas provas diferentes. Escreva um programa que utilize a função zip() para combinar as duas listas e criar uma lista de dicionários, onde cada dicionário representará um aluno com suas notas nas duas provas. Além disso, seu programa deve calcular a média das notas de cada aluno e adicionar essa média como um terceiro elemento em cada dicionário.\n",
    "\n",
    "Instruções:\n",
    "\n",
    "1) Defina duas listas: uma contendo os nomes dos alunos e outra contendo as notas correspondentes na primeira e na segunda prova, respectivamente.\n",
    "2) Use a função zip() para combinar as duas listas e criar uma lista de dicionários, onde cada dicionário representará um aluno com suas notas nas duas provas. Cada dicionário deve ter as chaves \"aluno\", \"prova1\" e \"prova2\".\n",
    "3) Para cada aluno, calcule a média das notas e adicione essa média como um terceiro elemento em cada dicionário.\n",
    "4) Imprima a lista de dicionários resultante."
   ]
  },
  {
   "cell_type": "markdown",
   "metadata": {},
   "source": [
    "Duplo_clique __aqui__ para a solução.\n",
    "<!-- resposta abaixo:\n",
    "# Listas de alunos e notas nas provas\n",
    "alunos = [\"João\", \"Maria\", \"José\", \"Camelo\"]\n",
    "notas_prova1 = [8.0, 9.0, 7.5, 8.5]\n",
    "notas_prova2 = [7.0, 8.5, 8.0, 9.5]\n",
    "\n",
    "# Usando a função zip para combinar as listas e criar uma lista de dicionários\n",
    "lista_de_dicionarios = []\n",
    "for aluno, nota1, nota2 in zip(alunos, notas_prova1, notas_prova2):\n",
    "    media = (nota1 + nota2) / 2\n",
    "    dicionario_aluno = {'aluno': aluno, 'prova1': nota1, 'prova2': nota2, 'media': media}\n",
    "    lista_de_dicionarios.append(dicionario_aluno)\n",
    "\n",
    "# Imprimindo a lista de dicionários resultante\n",
    "print(lista_de_dicionarios)\n",
    "-->"
   ]
  }
 ],
 "metadata": {
  "kernelspec": {
   "display_name": "Python 3",
   "language": "python",
   "name": "python3"
  },
  "language_info": {
   "codemirror_mode": {
    "name": "ipython",
    "version": 3
   },
   "file_extension": ".py",
   "mimetype": "text/x-python",
   "name": "python",
   "nbconvert_exporter": "python",
   "pygments_lexer": "ipython3",
   "version": "3.11.4"
  }
 },
 "nbformat": 4,
 "nbformat_minor": 2
}
