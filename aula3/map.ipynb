{
 "cells": [
  {
   "cell_type": "markdown",
   "metadata": {},
   "source": [
    "# <b>Map</b>\n",
    "\n",
    "### Com map, fazemos mapeamento de valores para função.\n"
   ]
  },
  {
   "cell_type": "code",
   "execution_count": null,
   "metadata": {},
   "outputs": [],
   "source": [
    "import math\n",
    "\n",
    "def area(r):\n",
    "    # Calcula a área de um círculo com raio 'r'.\n",
    "    return math.pi * (r ** 2)"
   ]
  },
  {
   "cell_type": "code",
   "execution_count": null,
   "metadata": {},
   "outputs": [],
   "source": [
    "print(area(2))\n",
    "print(area(5.3))\n"
   ]
  },
  {
   "cell_type": "code",
   "execution_count": null,
   "metadata": {},
   "outputs": [],
   "source": [
    "raios = [2, 5, 7.1, 0.3, 10, 44]\n",
    "\n",
    "# Forma comum\n",
    "areas = []\n",
    "for r in raios:\n",
    "    areas.append((area(r)))\n",
    "\n",
    "print(areas)"
   ]
  },
  {
   "cell_type": "markdown",
   "metadata": {},
   "source": [
    "### <b>Forma 2 - Map</b>\n",
    "#### Map é uma função que recebe dois parâmetros: O primeiro a função, o segundo um iterável. Retorna um Map Object\n"
   ]
  },
  {
   "cell_type": "code",
   "execution_count": null,
   "metadata": {},
   "outputs": [],
   "source": [
    "areas = map(area, raios)\n",
    "\n",
    "print(areas)\n",
    "print(type(areas))\n",
    "\n",
    "print(list(areas))\n"
   ]
  },
  {
   "cell_type": "markdown",
   "metadata": {},
   "source": [
    "### <b>Forma 3 - Map com Lambda</b>"
   ]
  },
  {
   "cell_type": "code",
   "execution_count": null,
   "metadata": {},
   "outputs": [],
   "source": [
    "print(list(map(lambda r: math.pi * (r ** 2), raios)))\n",
    "\n",
    "#OBS: Após utilizar a função map() depois da primeira utilização do resultado, ele zera.\n",
    "# Para fixar - Map\n",
    "# Temos dados iteráveis:\n",
    "# dados: a1, a2, ..., an\n",
    "\n",
    "# Temos uma função:\n",
    "# Função: f(x)\n",
    "\n",
    "# Utilizamos a função map(f, dados) onde map irá 'mapear' cada elemento dos dados e aplicar a função.\n",
    "# O Map Object: f(a1), f(a2), f(...), f(an)\n"
   ]
  },
  {
   "cell_type": "code",
   "execution_count": null,
   "metadata": {},
   "outputs": [],
   "source": [
    "# Mais um exemplo\n",
    "cidades = [('Berlim', 29), ('Cairo', 36), ('Buenos Aires', 19), ('Los Angeles', 26), ('Tokio', 27), ('Nova York', 28),\n",
    "           ('Londes', 22), ('Brasil', 25)]\n",
    "\n",
    "print(cidades)\n",
    "\n",
    "# Kelvin = Por exemplo, se a temperatura em Celsius for 25°C, a temperatura em Kelvin será 25°C + 273,15 = 298,15K1\n",
    "\n",
    "# Lambda\n",
    "\n",
    "c_para_k = lambda dado: (dado[0], dado[1] + 273.15)\n",
    "\n",
    "print(list(map(c_para_k, cidades)))\n"
   ]
  },
  {
   "cell_type": "code",
   "execution_count": 4,
   "metadata": {},
   "outputs": [
    {
     "name": "stdout",
     "output_type": "stream",
     "text": [
      "   A   B\n",
      "0  1  10\n",
      "1  2  20\n",
      "2  3  30\n",
      "3  4  40\n",
      "   A   B\n",
      "0  2  20\n",
      "1  4  40\n",
      "2  6  60\n",
      "3  8  80\n"
     ]
    }
   ],
   "source": [
    "import pandas as pd\n",
    "\n",
    "# Criando um DataFrame de exemplo\n",
    "data = {\n",
    "    'A': [1, 2, 3, 4],\n",
    "    'B': [10, 20, 30, 40]\n",
    "}\n",
    "df = pd.DataFrame(data)\n",
    "print(df.head())\n",
    "\n",
    "# Função que será aplicada a cada elemento\n",
    "def multiply_by_two(x):\n",
    "    return x * 2\n",
    "\n",
    "# Aplicando a função a cada elemento do DataFrame usando applymap\n",
    "df_transformed = df.map(multiply_by_two)\n",
    "\n",
    "print(df_transformed)\n"
   ]
  },
  {
   "cell_type": "code",
   "execution_count": 5,
   "metadata": {},
   "outputs": [
    {
     "name": "stdout",
     "output_type": "stream",
     "text": [
      "   A   B\n",
      "0  2  10\n",
      "1  4  20\n",
      "2  6  30\n",
      "3  8  40\n"
     ]
    }
   ],
   "source": [
    "# Aplicando a função a uma única coluna usando map\n",
    "df['A'] = df['A'].map(multiply_by_two)\n",
    "\n",
    "print(df)\n"
   ]
  },
  {
   "cell_type": "markdown",
   "metadata": {},
   "source": [
    "## Exercícios\n",
    "\n",
    "#### Suponha que você tenha uma lista de temperaturas em graus Celsius e deseje convertê-las para Fahrenheit. Escreva uma função chamada celsius_para_fahrenheit que aceite uma lista de temperaturas em graus Celsius e retorne uma lista com as temperaturas convertidas para Fahrenheit. Em seguida, use a função map() para aplicar essa função à lista de temperaturas dada.\n",
    "\n",
    "Instruções:\n",
    "\n",
    "1) Defina a função celsius_para_fahrenheit(temp_celsius) que aceite uma temperatura em Celsius como argumento e retorne a temperatura equivalente em Fahrenheit. A fórmula de conversão é: Fahrenheit = (Celsius * 9/5) + 32.\n",
    "\n",
    "2) Use a função map() para aplicar a função celsius_para_fahrenheit a uma lista de temperaturas em graus Celsius.\n",
    "\n",
    "3) Imprima a lista resultante com as temperaturas convertidas."
   ]
  },
  {
   "cell_type": "markdown",
   "metadata": {},
   "source": [
    "Duplo_clique __aqui__ para a solução.\n",
    "<!-- resposta abaixo:\n",
    "def celsius_para_fahrenheit(temp_celsius):\n",
    "    return (temp_celsius * 9/5) + 32\n",
    "\n",
    "# Lista de temperaturas em Celsius\n",
    "temperaturas_celsius = [0, 10, 20, 30, 40]\n",
    "\n",
    "# Aplicando a função celsius_para_fahrenheit usando map\n",
    "temperaturas_fahrenheit = list(map(celsius_para_fahrenheit, temperaturas_celsius))\n",
    "\n",
    "# Imprimindo as temperaturas convertidas\n",
    "print(temperaturas_fahrenheit)\n",
    "-->"
   ]
  },
  {
   "cell_type": "code",
   "execution_count": 6,
   "metadata": {},
   "outputs": [
    {
     "name": "stdout",
     "output_type": "stream",
     "text": [
      "[84.2, 96.8, 66.2, 78.8, 80.6, 82.4]\n"
     ]
    }
   ],
   "source": [
    "def celsius_para_fehrenheit(celsius):\n",
    "    return celsius * 9/5 + 32\n",
    "\n",
    "cidades = [29, 36, 19,26, 27, 28]\n",
    "\n",
    "print(list(map(celsius_para_fehrenheit, cidades)))"
   ]
  }
 ],
 "metadata": {
  "kernelspec": {
   "display_name": "base",
   "language": "python",
   "name": "python3"
  },
  "language_info": {
   "codemirror_mode": {
    "name": "ipython",
    "version": 3
   },
   "file_extension": ".py",
   "mimetype": "text/x-python",
   "name": "python",
   "nbconvert_exporter": "python",
   "pygments_lexer": "ipython3",
   "version": "3.12.4"
  }
 },
 "nbformat": 4,
 "nbformat_minor": 2
}
