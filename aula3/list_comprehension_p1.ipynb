{
 "cells": [
  {
   "cell_type": "markdown",
   "metadata": {},
   "source": [
    "# List Comprehension\n",
    "\n",
    "### Utilizando List Comprehension nós podemos gerar novas listas com dados processados a partir de outro iterável.\n",
    "\n",
    "#### Sintaxe:   [ dado for dado in iteravel ]\n",
    "\n"
   ]
  },
  {
   "cell_type": "code",
   "execution_count": null,
   "metadata": {},
   "outputs": [],
   "source": [
    "# Exemplos\n",
    "\n",
    "numeros = [1, 2, 3, 4, 5]\n",
    "\n",
    "res = [numero * 10 for numero in numeros]\n",
    "\n",
    "print(res)\n",
    "\n",
    "res = [numero / 2 for numero in numeros]\n",
    "print(res)"
   ]
  },
  {
   "cell_type": "code",
   "execution_count": null,
   "metadata": {},
   "outputs": [],
   "source": [
    "def funcao(valor):\n",
    "    return valor * valor\n",
    "\n",
    "res = [funcao(numero) for numero in numeros ]\n",
    "\n",
    "print(res)"
   ]
  },
  {
   "cell_type": "code",
   "execution_count": null,
   "metadata": {},
   "outputs": [],
   "source": [
    "# List Comprehension versos Loop\n",
    "\n",
    "# Loop\n",
    "numeros_dobrados = []\n",
    "\n",
    "for numero in [1, 2, 3, 4, 5]:\n",
    "    numeros_dobrados.append(numero * 2)\n",
    "\n",
    "print(numeros_dobrados)\n",
    "\n",
    "# List Comprehension\n",
    "print([numero * 2 for numero in [1, 2, 3, 4, 5]])\n"
   ]
  },
  {
   "cell_type": "code",
   "execution_count": null,
   "metadata": {},
   "outputs": [],
   "source": [
    "# 2\n",
    "def caixa_alta(nome):\n",
    "    nome = nome.replace(nome[0], nome[0].upper())\n",
    "    return nome\n",
    "\n",
    "amigos = ['vagner', 'fernanda', 'mariella', 'victor']\n",
    "\n",
    "print([caixa_alta(amigo) for amigo in amigos])"
   ]
  },
  {
   "cell_type": "code",
   "execution_count": null,
   "metadata": {},
   "outputs": [],
   "source": [
    "# 3\n",
    "print([numero * 3 for numero in range(1, 10)])"
   ]
  },
  {
   "cell_type": "code",
   "execution_count": null,
   "metadata": {},
   "outputs": [],
   "source": [
    "# 4\n",
    "print([bool(valor) for valor in [0, [], '', True, 1, 3.14]])"
   ]
  },
  {
   "cell_type": "code",
   "execution_count": null,
   "metadata": {},
   "outputs": [],
   "source": [
    "# 5\n",
    "print([str(numero) for numero in [1, 2, 3, 4, 5]])"
   ]
  }
 ],
 "metadata": {
  "kernelspec": {
   "display_name": "Python 3",
   "language": "python",
   "name": "python3"
  },
  "language_info": {
   "codemirror_mode": {
    "name": "ipython",
    "version": 3
   },
   "file_extension": ".py",
   "mimetype": "text/x-python",
   "name": "python",
   "nbconvert_exporter": "python",
   "pygments_lexer": "ipython3",
   "version": "3.11.4"
  }
 },
 "nbformat": 4,
 "nbformat_minor": 2
}
